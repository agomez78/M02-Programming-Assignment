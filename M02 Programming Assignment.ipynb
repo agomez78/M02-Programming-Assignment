{
 "cells": [
  {
   "cell_type": "code",
   "execution_count": 1,
   "id": "60c50f4f",
   "metadata": {},
   "outputs": [
    {
     "name": "stdout",
     "output_type": "stream",
     "text": [
      "too low\n"
     ]
    }
   ],
   "source": [
    "# 4.1\n",
    "\n",
    "# Assign the secret number (you can choose any number between 1 and 10)\n",
    "secret = 7\n",
    "\n",
    "# Assign the guess number (you can choose any number between 1 and 10)\n",
    "guess = 5\n",
    "\n",
    "# Check if the guess is too low, too high, or just right\n",
    "if guess < secret:\n",
    "    print('too low')\n",
    "elif guess > secret:\n",
    "    print('too high')\n",
    "else:\n",
    "    print('just right')"
   ]
  },
  {
   "cell_type": "code",
   "execution_count": 2,
   "id": "f58ee16e",
   "metadata": {},
   "outputs": [
    {
     "name": "stdout",
     "output_type": "stream",
     "text": [
      "pumpkin\n"
     ]
    }
   ],
   "source": [
    "# 4.2\n",
    "\n",
    "# Assign values to the variables small and green\n",
    "small = False\n",
    "green = True\n",
    "\n",
    "# Check which fruit matches the choices of small and green\n",
    "if small and green:\n",
    "    print('watermelon')  # If both small and green are True\n",
    "    \n",
    "elif small and not green:\n",
    "    print('pea')  # If small is True and green is False\n",
    "    \n",
    "elif not small and green:\n",
    "    print('pumpkin')  # If small is False and green is True\n",
    "    \n",
    "else:\n",
    "    print('cherry')  # If both small and green are False"
   ]
  },
  {
   "cell_type": "code",
   "execution_count": 3,
   "id": "f7c8c752",
   "metadata": {},
   "outputs": [
    {
     "name": "stdout",
     "output_type": "stream",
     "text": [
      "3\n",
      "2\n",
      "1\n",
      "0\n"
     ]
    }
   ],
   "source": [
    "# 6.1\n",
    "\n",
    "# Create a list of values\n",
    "values = [3, 2, 1, 0]\n",
    "\n",
    "# Use a for loop to print each value in the list\n",
    "for value in values:\n",
    "    print(value)"
   ]
  },
  {
   "cell_type": "code",
   "execution_count": 4,
   "id": "2975d95b",
   "metadata": {},
   "outputs": [
    {
     "name": "stdout",
     "output_type": "stream",
     "text": [
      "too low\n",
      "too low\n",
      "too low\n",
      "too low\n",
      "too low\n",
      "too low\n",
      "found it!\n"
     ]
    }
   ],
   "source": [
    "# 6.2\n",
    "\n",
    "# Assign the values to the variables guess_me and number\n",
    "guess_me = 7\n",
    "number = 1\n",
    "\n",
    "# Use a while loop to compare number with guess_me\n",
    "while number <= guess_me:\n",
    "    if number < guess_me:\n",
    "        print('too low') # Print 'too low' when number is less than guess and loops\n",
    "    elif number == guess_me:\n",
    "        print('found it!')\n",
    "        break  # Exit the loop when the guess is found\n",
    "    else:\n",
    "        print('oops')\n",
    "        break  # Exit the loop when the number is greater than guess_me\n",
    "    number += 1  # Increment the number at the end of each loop "
   ]
  },
  {
   "cell_type": "code",
   "execution_count": null,
   "id": "0dc118c0",
   "metadata": {},
   "outputs": [],
   "source": [
    "# 6.3: \n",
    "\n",
    "# Assign the value to the variable guess_me\n",
    "guess_me = 5\n",
    "\n",
    "# Use a for loop to iterate a variable called number over the range of numbers from 0 to 9\n",
    "for number in range(10):\n",
    "    if number < guess_me:\n",
    "        print('too low') # Print 'too low' when number is less than guess and loops\n",
    "    elif number == guess_me:\n",
    "        print('found it!')\n",
    "        break  # Exit the loop when the guess is found\n",
    "    else:\n",
    "        print('oops')  \n",
    "        break # Exit the loop when the number is greater than the guess"
   ]
  }
 ],
 "metadata": {
  "kernelspec": {
   "display_name": "Python 3 (ipykernel)",
   "language": "python",
   "name": "python3"
  },
  "language_info": {
   "codemirror_mode": {
    "name": "ipython",
    "version": 3
   },
   "file_extension": ".py",
   "mimetype": "text/x-python",
   "name": "python",
   "nbconvert_exporter": "python",
   "pygments_lexer": "ipython3",
   "version": "3.11.5"
  }
 },
 "nbformat": 4,
 "nbformat_minor": 5
}
